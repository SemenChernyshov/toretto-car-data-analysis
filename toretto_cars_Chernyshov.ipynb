{
  "nbformat": 4,
  "nbformat_minor": 0,
  "metadata": {
    "colab": {
      "provenance": []
    },
    "kernelspec": {
      "name": "python3",
      "display_name": "Python 3"
    },
    "language_info": {
      "name": "python"
    }
  },
  "cells": [
    {
      "cell_type": "code",
      "execution_count": 5,
      "metadata": {
        "id": "NkGW8ldkoBUP"
      },
      "outputs": [],
      "source": [
        "import pandas as pd\n",
        "import numpy as np\n",
        "#import requests\n",
        "import re"
      ]
    },
    {
      "cell_type": "code",
      "source": [
        "#считываем файл и добавляем марки машин, взятые с borauto.ru и с интенета\n",
        "df = pd.read_csv('toretto-car.csv')\n",
        "\n",
        "with open('marks1.txt') as f:\n",
        "    marks1 = f.readlines()\n",
        "\n",
        "with open('marks2.txt') as f:\n",
        "    marks2 = f.readlines()\n",
        "\n",
        "marks1 = list(map(lambda x: x.strip(), marks1))\n",
        "marks1 = list(map(lambda x: x.lower(), marks1))\n",
        "marks2 = list(map(lambda x: x.strip(), marks2))\n",
        "marks2 = list(map(lambda x: x.lower(), marks2))\n",
        "marks = set(marks1).union(set(marks2))\n",
        "marks1[marks1.index(\"заз\")] = 'zaz'\n",
        "marks1[marks1.index(\"газ\")] = 'gaz'\n",
        "marks1[marks1.index(\"тагаз\")] = 'tagaz'"
      ],
      "metadata": {
        "id": "SeIjhvzioFW7"
      },
      "execution_count": 4,
      "outputs": []
    },
    {
      "cell_type": "code",
      "source": [
        "# добавялем столбецы с марками автомобилей, взятые из полей ym_pv_URL и ym_pv_referer соответственно\n",
        "df['marks'] = df['ym_pv_URL'].str.extract(f\"({'|'.join(marks)})\")\n",
        "df['refer_marks'] = df['ym_pv_referer'].str.extract(f\"({'|'.join(marks)})\")"
      ],
      "metadata": {
        "id": "mfrHih0srb5p"
      },
      "execution_count": 6,
      "outputs": []
    },
    {
      "cell_type": "code",
      "source": [
        "df['special_offer'] = df['ym_pv_URL'].str.contains('special')"
      ],
      "metadata": {
        "id": "hTEUOOgYxdG-"
      },
      "execution_count": null,
      "outputs": []
    },
    {
      "cell_type": "code",
      "source": [
        "# вспомогательные функции для добавления моделей машин\n",
        "def func1(s,mark):\n",
        "    res = re.search(  f\"(?<={mark}/)(.*)(?=/)\", s)\n",
        "    if res: return res[0]\n",
        "    return res\n",
        "\n",
        "def func2(s,mark):\n",
        "    res = re.search(  f'(?<={mark}/)(.*)(?=\\?)', s)\n",
        "    if res: return res[0]\n",
        "    return res\n",
        "\n",
        "def f(s,mark):\n",
        "    if pd.isna(s): return None\n",
        "    if func1(s,mark):\n",
        "        return func1(s,mark)\n",
        "    return func2(s,mark)"
      ],
      "metadata": {
        "id": "eOkpkFUpCAMr"
      },
      "execution_count": 7,
      "outputs": []
    },
    {
      "cell_type": "code",
      "source": [
        "# добавялем столбцы с моделями автомобилей, взятые из полей ym_pv_URL и ym_pv_referer соответственно\n",
        "df['model'] = df.apply(lambda x: f(x['ym_pv_URL'], x['marks']), axis=1)\n",
        "df['refer_model'] = df.apply(lambda x: f(x['ym_pv_referer'], x['refer_marks']), axis=1)"
      ],
      "metadata": {
        "id": "13pcfd0dDpFW"
      },
      "execution_count": 8,
      "outputs": []
    },
    {
      "cell_type": "code",
      "source": [
        "# вспомогательная функция для нахождения уникальных номеров машин\n",
        "def g(s,mark,model):\n",
        "    if pd.isna(s): return None\n",
        "    res = re.search(  f\"(?<={mark}/{model}/)([nu]\\d*)\", s)\n",
        "    if res: return res[0]\n",
        "    return res"
      ],
      "metadata": {
        "id": "4rxKijUdZ1vK"
      },
      "execution_count": 9,
      "outputs": []
    },
    {
      "cell_type": "code",
      "source": [
        "#находим ид машин, взятые из полей ym_pv_URL и ym_pv_referer соответственно\n",
        "df['car_id'] = df.apply(lambda x: g(x['ym_pv_URL'], x['marks'], x['model']), axis=1)\n",
        "df['car_id_refer'] = df.apply(lambda x: g(x['ym_pv_referer'], x['refer_marks'], x['refer_model']), axis=1)"
      ],
      "metadata": {
        "id": "XjetRfojXJwi"
      },
      "execution_count": 10,
      "outputs": []
    },
    {
      "cell_type": "code",
      "source": [
        "#находим все ид машин\n",
        "car_id = df['car_id'].unique()\n",
        "car_id_refer = df['car_id_refer'].unique()\n",
        "car_id = car_id[1:]\n",
        "car_id_refer = car_id_refer[1:]\n",
        "cars_id = set(car_id).union(set(car_id_refer))"
      ],
      "metadata": {
        "id": "p6lVbQmIepR4"
      },
      "execution_count": 11,
      "outputs": []
    },
    {
      "cell_type": "code",
      "source": [
        "#сохраняем словарь с ид машины и соответсующей маркой и моделью\n",
        "d = {}\n",
        "for id in cars_id:\n",
        "    if id in car_id:\n",
        "        row = df[df['car_id'] == id].iloc[0]\n",
        "        mark = df[df['car_id'] == id].iloc[0].marks\n",
        "        model = df[df['car_id'] == id].iloc[0].model\n",
        "    else:\n",
        "        row = df[df['car_id_refer'] == id].iloc[0]\n",
        "        mark = df[df['car_id_refer'] == id].iloc[0].refer_marks\n",
        "        model = df[df['car_id_refer'] == id].iloc[0].refer_model\n",
        "    d[id] = [mark, model]"
      ],
      "metadata": {
        "id": "x9rHRXBHkD29"
      },
      "execution_count": 12,
      "outputs": []
    },
    {
      "cell_type": "code",
      "source": [
        "#добавим ид из столбца ym_pv_URL, которых раньше не было\n",
        "def func_car_id(s):\n",
        "    for id in cars_id:\n",
        "        res = re.search(  f\"{id}\", s)\n",
        "        if res: return res[0]\n",
        "    return None\n",
        "df['car_id'] = df.apply(lambda x: x['car_id'] if x['car_id'] else func_car_id(x['ym_pv_URL']), axis=1)"
      ],
      "metadata": {
        "id": "wjdDowbE4w5M"
      },
      "execution_count": 13,
      "outputs": []
    },
    {
      "cell_type": "code",
      "source": [
        "#дополним стороки маркой и моделью, в которых в ссылке (столбец ym_pv_URL) есть только ид машины\n",
        "def func_mark(s,car_id):\n",
        "    res = re.search(  f\"{car_id}\", s)\n",
        "    if res: return d[res[0]][0]\n",
        "    return res\n",
        "\n",
        "def func_model(s,car_id):\n",
        "    res = re.search(  f\"{car_id}\", s)\n",
        "    if res: return d[res[0]][1]\n",
        "    return res\n",
        "\n",
        "df['marks'] = df.apply(lambda x: x['marks'] if  not pd.isna(x['marks']) else func_mark(x['ym_pv_URL'], x['car_id']), axis=1)\n",
        "df['model'] = df.apply(lambda x: x['model'] if x['model'] else func_model(x['ym_pv_URL'], x['car_id']), axis=1)"
      ],
      "metadata": {
        "id": "6k-bKQhok-Hl"
      },
      "execution_count": 14,
      "outputs": []
    },
    {
      "cell_type": "code",
      "source": [
        "#список всех извсетных моделей\n",
        "model_list = df['model'].unique()\n",
        "model_list = model_list[1:]\n"
      ],
      "metadata": {
        "id": "2CD435OxDi1b"
      },
      "execution_count": 15,
      "outputs": []
    },
    {
      "cell_type": "code",
      "source": [
        "\n",
        "def f_model(s):\n",
        "    for model in model_list:\n",
        "        res = re.search(  f\"{model}\", s)\n",
        "        if res: return res[0]\n",
        "    return None\n",
        "\n",
        "df['model'] = df.apply(lambda x : x['model'] if x['model'] else f_model(x['ym_pv_URL']), axis=1)"
      ],
      "metadata": {
        "id": "QuDaWgNREMIC"
      },
      "execution_count": 16,
      "outputs": []
    },
    {
      "cell_type": "code",
      "source": [
        "#удаляем вспомогательные столбцы\n",
        "new_df = df.drop(columns=['refer_marks', 'refer_model', 'car_id_refer'])\n",
        "new_df = new_df.rename(columns={\"marks\": \"mark\"})"
      ],
      "metadata": {
        "id": "MRZx36dkEZHM"
      },
      "execution_count": 17,
      "outputs": []
    },
    {
      "cell_type": "code",
      "source": [
        "# добавим ид машин из ссылок, в которых есть только ид машины (без марки и модели)\n",
        "def g_car_id(s):\n",
        "    res = re.search(  f\"(?<=#car-)([nu]\\d*)\", s)\n",
        "    if res: return res[0]\n",
        "    return res\n",
        "\n",
        "new_df['car_id'] = df.apply(lambda x : x['car_id'] if x['car_id'] else g_car_id(x['ym_pv_URL']), axis=1)"
      ],
      "metadata": {
        "id": "Ke4KDui9G_KB"
      },
      "execution_count": 18,
      "outputs": []
    },
    {
      "cell_type": "code",
      "source": [
        "#сохраняем новую таблицу, с которой продолжим работать\n",
        "new_df.to_csv('toretto_car_new.csv', index=False)"
      ],
      "metadata": {
        "id": "y6-GVSLnHY5m"
      },
      "execution_count": null,
      "outputs": []
    }
  ]
}